{
 "cells": [
  {
   "cell_type": "markdown",
   "metadata": {},
   "source": [
    "# Exploratory Data Analysis"
   ]
  },
  {
   "cell_type": "code",
   "execution_count": 2,
   "metadata": {},
   "outputs": [],
   "source": [
    "%matplotlib inline\n",
    "import matplotlib\n",
    "import pandas as pd\n",
    "import numpy as np\n",
    "from sklearn.utils import shuffle\n",
    "np.random.seed(47)"
   ]
  },
  {
   "cell_type": "code",
   "execution_count": 3,
   "metadata": {},
   "outputs": [
    {
     "data": {
      "text/html": [
       "<div>\n",
       "<style scoped>\n",
       "    .dataframe tbody tr th:only-of-type {\n",
       "        vertical-align: middle;\n",
       "    }\n",
       "\n",
       "    .dataframe tbody tr th {\n",
       "        vertical-align: top;\n",
       "    }\n",
       "\n",
       "    .dataframe thead th {\n",
       "        text-align: right;\n",
       "    }\n",
       "</style>\n",
       "<table border=\"1\" class=\"dataframe\">\n",
       "  <thead>\n",
       "    <tr style=\"text-align: right;\">\n",
       "      <th></th>\n",
       "      <th>headline</th>\n",
       "      <th>category</th>\n",
       "      <th>date</th>\n",
       "      <th>views</th>\n",
       "      <th>article</th>\n",
       "      <th>link</th>\n",
       "    </tr>\n",
       "  </thead>\n",
       "  <tbody>\n",
       "    <tr>\n",
       "      <th>11501</th>\n",
       "      <td>የሕዝብ ተወካዮች ምክር ቤት የፊታችን ሰኞ ከእረፍት ይመለሳል፡፡</td>\n",
       "      <td>ሀገር አቀፍ ዜና</td>\n",
       "      <td>October 1, 2019</td>\n",
       "      <td>64</td>\n",
       "      <td>ባሕር ዳር፡ መስከረም 20/2012 ዓ/ም (አብመድ) የሕዝብ ተወካዮች ምክ...</td>\n",
       "      <td>https://www.amharaweb.com/%e1%8b%a8%e1%88%95%e...</td>\n",
       "    </tr>\n",
       "    <tr>\n",
       "      <th>279</th>\n",
       "      <td>ባየር ሙኒክ በኢትዮጵያ ሥልጠና ይሰጣል</td>\n",
       "      <td>ስፖርት</td>\n",
       "      <td>February 17, 2020</td>\n",
       "      <td>19</td>\n",
       "      <td>የጀርመኑ ኃያል ክለብ ባየር ሙኒክ በኢትዮጵያ ለክለቦች የተለያዩ ሥልጠና...</td>\n",
       "      <td>https://www.press.et/Ama/?p=27414</td>\n",
       "    </tr>\n",
       "    <tr>\n",
       "      <th>27675</th>\n",
       "      <td>የሴቶች ገፅ | ወርቃማዋ እንስት ሽታዬ ሲሳይ</td>\n",
       "      <td>ስፖርት</td>\n",
       "      <td>June 18, 2020</td>\n",
       "      <td>Unknown</td>\n",
       "      <td>በቡድን ስኬት እና በግል ክብሮች ባንፀባረቀው የእግር ኳስ ህይወቷ ከትምህ...</td>\n",
       "      <td>https://soccerethiopia.net/football/58486</td>\n",
       "    </tr>\n",
       "  </tbody>\n",
       "</table>\n",
       "</div>"
      ],
      "text/plain": [
       "                                       headline    category  \\\n",
       "11501  የሕዝብ ተወካዮች ምክር ቤት የፊታችን ሰኞ ከእረፍት ይመለሳል፡፡  ሀገር አቀፍ ዜና   \n",
       "279                    ባየር ሙኒክ በኢትዮጵያ ሥልጠና ይሰጣል        ስፖርት   \n",
       "27675              የሴቶች ገፅ | ወርቃማዋ እንስት ሽታዬ ሲሳይ        ስፖርት   \n",
       "\n",
       "                    date    views  \\\n",
       "11501    October 1, 2019       64   \n",
       "279    February 17, 2020       19   \n",
       "27675      June 18, 2020  Unknown   \n",
       "\n",
       "                                                 article  \\\n",
       "11501  ባሕር ዳር፡ መስከረም 20/2012 ዓ/ም (አብመድ) የሕዝብ ተወካዮች ምክ...   \n",
       "279     የጀርመኑ ኃያል ክለብ ባየር ሙኒክ በኢትዮጵያ ለክለቦች የተለያዩ ሥልጠና...   \n",
       "27675  በቡድን ስኬት እና በግል ክብሮች ባንፀባረቀው የእግር ኳስ ህይወቷ ከትምህ...   \n",
       "\n",
       "                                                    link  \n",
       "11501  https://www.amharaweb.com/%e1%8b%a8%e1%88%95%e...  \n",
       "279                    https://www.press.et/Ama/?p=27414  \n",
       "27675          https://soccerethiopia.net/football/58486  "
      ]
     },
     "execution_count": 3,
     "metadata": {},
     "output_type": "execute_result"
    }
   ],
   "source": [
    "data = pd.read_csv('../data/Amharic News Dataset.csv')\n",
    "data = shuffle(data)\n",
    "data.head(3)"
   ]
  },
  {
   "cell_type": "code",
   "execution_count": 4,
   "metadata": {},
   "outputs": [
    {
     "name": "stdout",
     "output_type": "stream",
     "text": [
      "<class 'pandas.core.frame.DataFrame'>\n",
      "Int64Index: 51483 entries, 11501 to 38023\n",
      "Data columns (total 6 columns):\n",
      " #   Column    Non-Null Count  Dtype \n",
      "---  ------    --------------  ----- \n",
      " 0   headline  51470 non-null  object\n",
      " 1   category  51482 non-null  object\n",
      " 2   date      51483 non-null  object\n",
      " 3   views     51483 non-null  object\n",
      " 4   article   51483 non-null  object\n",
      " 5   link      51483 non-null  object\n",
      "dtypes: object(6)\n",
      "memory usage: 2.7+ MB\n"
     ]
    }
   ],
   "source": [
    "data.info()"
   ]
  },
  {
   "cell_type": "code",
   "execution_count": 5,
   "metadata": {},
   "outputs": [
    {
     "data": {
      "text/plain": [
       "(51483, 6)"
      ]
     },
     "execution_count": 5,
     "metadata": {},
     "output_type": "execute_result"
    }
   ],
   "source": [
    "data.shape"
   ]
  },
  {
   "cell_type": "markdown",
   "metadata": {},
   "source": [
    "We have 51,483 records for 6 columns which are **headline, category, date, views, article** and **link**"
   ]
  },
  {
   "cell_type": "code",
   "execution_count": 6,
   "metadata": {},
   "outputs": [],
   "source": [
    "data = data.dropna(subset=['article'])"
   ]
  },
  {
   "cell_type": "code",
   "execution_count": 7,
   "metadata": {},
   "outputs": [
    {
     "data": {
      "text/plain": [
       "https://amharic.voanews.com//a/covid-main/5443343.html                                                                                                         3\n",
       "https://amharic.voanews.com//a/community-service-honored-on-adwa-124th-voa-prince-ermias-sahle-selassie-and-nebiyat-aklilu-with-voa-march-2020/5331348.html    3\n",
       "https://amharic.voanews.com//a/london-marathon/5608398.html                                                                                                    3\n",
       "https://amharic.voanews.com//a/sochi-russia-africa-ethiopia-10-24-19/5138261.html                                                                              3\n",
       "https://amharic.voanews.com//a/5461661.html                                                                                                                    3\n",
       "                                                                                                                                                              ..\n",
       "https://www.press.et/Ama/?p=27942                                                                                                                              1\n",
       "https://waltainfo.com/am/24894/                                                                                                                                1\n",
       "https://soccerethiopia.net/football/3759                                                                                                                       1\n",
       "https://waltainfo.com/am/24696/                                                                                                                                1\n",
       "https://amharic.voanews.com//a/tigray-election-9-8-2020/5575678.html                                                                                           1\n",
       "Name: link, Length: 50778, dtype: int64"
      ]
     },
     "execution_count": 7,
     "metadata": {},
     "output_type": "execute_result"
    }
   ],
   "source": [
    "data['link'].value_counts()"
   ]
  },
  {
   "cell_type": "code",
   "execution_count": 8,
   "metadata": {},
   "outputs": [
    {
     "data": {
      "text/plain": [
       "array(['ሀገር አቀፍ ዜና', 'ስፖርት', 'ፖለቲካ', 'ቢዝነስ', 'ዓለም አቀፍ ዜና', 'መዝናኛ', nan],\n",
       "      dtype=object)"
      ]
     },
     "execution_count": 8,
     "metadata": {},
     "output_type": "execute_result"
    }
   ],
   "source": [
    "data.category.unique()"
   ]
  },
  {
   "cell_type": "markdown",
   "metadata": {},
   "source": [
    "Equivalent to [National News, Politics, Sports, International News, Business, Entertainment, nan]"
   ]
  },
  {
   "cell_type": "code",
   "execution_count": 9,
   "metadata": {},
   "outputs": [
    {
     "data": {
      "text/html": [
       "<div>\n",
       "<style scoped>\n",
       "    .dataframe tbody tr th:only-of-type {\n",
       "        vertical-align: middle;\n",
       "    }\n",
       "\n",
       "    .dataframe tbody tr th {\n",
       "        vertical-align: top;\n",
       "    }\n",
       "\n",
       "    .dataframe thead th {\n",
       "        text-align: right;\n",
       "    }\n",
       "</style>\n",
       "<table border=\"1\" class=\"dataframe\">\n",
       "  <thead>\n",
       "    <tr style=\"text-align: right;\">\n",
       "      <th></th>\n",
       "      <th>headline</th>\n",
       "      <th>category</th>\n",
       "      <th>date</th>\n",
       "      <th>views</th>\n",
       "      <th>article</th>\n",
       "      <th>link</th>\n",
       "      <th>word_len</th>\n",
       "    </tr>\n",
       "  </thead>\n",
       "  <tbody>\n",
       "    <tr>\n",
       "      <th>11501</th>\n",
       "      <td>የሕዝብ ተወካዮች ምክር ቤት የፊታችን ሰኞ ከእረፍት ይመለሳል፡፡</td>\n",
       "      <td>ሀገር አቀፍ ዜና</td>\n",
       "      <td>October 1, 2019</td>\n",
       "      <td>64</td>\n",
       "      <td>ባሕር ዳር፡ መስከረም 20/2012 ዓ/ም (አብመድ) የሕዝብ ተወካዮች ምክ...</td>\n",
       "      <td>https://www.amharaweb.com/%e1%8b%a8%e1%88%95%e...</td>\n",
       "      <td>214</td>\n",
       "    </tr>\n",
       "    <tr>\n",
       "      <th>279</th>\n",
       "      <td>ባየር ሙኒክ በኢትዮጵያ ሥልጠና ይሰጣል</td>\n",
       "      <td>ስፖርት</td>\n",
       "      <td>February 17, 2020</td>\n",
       "      <td>19</td>\n",
       "      <td>የጀርመኑ ኃያል ክለብ ባየር ሙኒክ በኢትዮጵያ ለክለቦች የተለያዩ ሥልጠና...</td>\n",
       "      <td>https://www.press.et/Ama/?p=27414</td>\n",
       "      <td>206</td>\n",
       "    </tr>\n",
       "    <tr>\n",
       "      <th>27675</th>\n",
       "      <td>የሴቶች ገፅ | ወርቃማዋ እንስት ሽታዬ ሲሳይ</td>\n",
       "      <td>ስፖርት</td>\n",
       "      <td>June 18, 2020</td>\n",
       "      <td>Unknown</td>\n",
       "      <td>በቡድን ስኬት እና በግል ክብሮች ባንፀባረቀው የእግር ኳስ ህይወቷ ከትምህ...</td>\n",
       "      <td>https://soccerethiopia.net/football/58486</td>\n",
       "      <td>1054</td>\n",
       "    </tr>\n",
       "  </tbody>\n",
       "</table>\n",
       "</div>"
      ],
      "text/plain": [
       "                                       headline    category  \\\n",
       "11501  የሕዝብ ተወካዮች ምክር ቤት የፊታችን ሰኞ ከእረፍት ይመለሳል፡፡  ሀገር አቀፍ ዜና   \n",
       "279                    ባየር ሙኒክ በኢትዮጵያ ሥልጠና ይሰጣል        ስፖርት   \n",
       "27675              የሴቶች ገፅ | ወርቃማዋ እንስት ሽታዬ ሲሳይ        ስፖርት   \n",
       "\n",
       "                    date    views  \\\n",
       "11501    October 1, 2019       64   \n",
       "279    February 17, 2020       19   \n",
       "27675      June 18, 2020  Unknown   \n",
       "\n",
       "                                                 article  \\\n",
       "11501  ባሕር ዳር፡ መስከረም 20/2012 ዓ/ም (አብመድ) የሕዝብ ተወካዮች ምክ...   \n",
       "279     የጀርመኑ ኃያል ክለብ ባየር ሙኒክ በኢትዮጵያ ለክለቦች የተለያዩ ሥልጠና...   \n",
       "27675  በቡድን ስኬት እና በግል ክብሮች ባንፀባረቀው የእግር ኳስ ህይወቷ ከትምህ...   \n",
       "\n",
       "                                                    link  word_len  \n",
       "11501  https://www.amharaweb.com/%e1%8b%a8%e1%88%95%e...       214  \n",
       "279                    https://www.press.et/Ama/?p=27414       206  \n",
       "27675          https://soccerethiopia.net/football/58486      1054  "
      ]
     },
     "execution_count": 9,
     "metadata": {},
     "output_type": "execute_result"
    }
   ],
   "source": [
    "data['word_len'] = data['article'].str.split().str.len()\n",
    "data.head(3)"
   ]
  },
  {
   "cell_type": "code",
   "execution_count": 10,
   "metadata": {},
   "outputs": [
    {
     "name": "stdout",
     "output_type": "stream",
     "text": [
      "<class 'pandas.core.frame.DataFrame'>\n",
      "Int64Index: 51483 entries, 11501 to 38023\n",
      "Data columns (total 7 columns):\n",
      " #   Column    Non-Null Count  Dtype \n",
      "---  ------    --------------  ----- \n",
      " 0   headline  51470 non-null  object\n",
      " 1   category  51482 non-null  object\n",
      " 2   date      51483 non-null  object\n",
      " 3   views     51483 non-null  object\n",
      " 4   article   51483 non-null  object\n",
      " 5   link      51483 non-null  object\n",
      " 6   word_len  51483 non-null  int64 \n",
      "dtypes: int64(1), object(6)\n",
      "memory usage: 3.1+ MB\n"
     ]
    }
   ],
   "source": [
    "data.info()"
   ]
  },
  {
   "cell_type": "code",
   "execution_count": 11,
   "metadata": {},
   "outputs": [
    {
     "data": {
      "text/plain": [
       "248.9586853912942"
      ]
     },
     "execution_count": 11,
     "metadata": {},
     "output_type": "execute_result"
    }
   ],
   "source": [
    "data.word_len.mean()"
   ]
  },
  {
   "cell_type": "markdown",
   "metadata": {},
   "source": [
    "# character level normalization\n",
    "\n",
    "Amharic has characters wich have the same sound that can be interchangably used.\n",
    "\n",
    "for example letters 'ሃ','ኅ','ኃ','ሐ','ሓ','ኻ','ሀ' have the same sound so we change them to 'ሀ' "
   ]
  },
  {
   "cell_type": "code",
   "execution_count": 12,
   "metadata": {},
   "outputs": [],
   "source": [
    "import re\n",
    "#method to normalize character level missmatch such as ጸሀይ and ፀሐይ\n",
    "def normalize_char_level_missmatch(input_token):\n",
    "    rep1=re.sub('[ሃኅኃሐሓኻ]','ሀ',input_token)\n",
    "    rep2=re.sub('[ሑኁዅ]','ሁ',rep1)\n",
    "    rep3=re.sub('[ኂሒኺ]','ሂ',rep2)\n",
    "    rep4=re.sub('[ኌሔዄ]','ሄ',rep3)\n",
    "    rep5=re.sub('[ሕኅ]','ህ',rep4)\n",
    "    rep6=re.sub('[ኆሖኾ]','ሆ',rep5)\n",
    "    rep7=re.sub('[ሠ]','ሰ',rep6)\n",
    "    rep8=re.sub('[ሡ]','ሱ',rep7)\n",
    "    rep9=re.sub('[ሢ]','ሲ',rep8)\n",
    "    rep10=re.sub('[ሣ]','ሳ',rep9)\n",
    "    rep11=re.sub('[ሤ]','ሴ',rep10)\n",
    "    rep12=re.sub('[ሥ]','ስ',rep11)\n",
    "    rep13=re.sub('[ሦ]','ሶ',rep12)\n",
    "    rep14=re.sub('[ዓኣዐ]','አ',rep13)\n",
    "    rep15=re.sub('[ዑ]','ኡ',rep14)\n",
    "    rep16=re.sub('[ዒ]','ኢ',rep15)\n",
    "    rep17=re.sub('[ዔ]','ኤ',rep16)\n",
    "    rep18=re.sub('[ዕ]','እ',rep17)\n",
    "    rep19=re.sub('[ዖ]','ኦ',rep18)\n",
    "    rep20=re.sub('[ጸ]','ፀ',rep19)\n",
    "    rep21=re.sub('[ጹ]','ፁ',rep20)\n",
    "    rep22=re.sub('[ጺ]','ፂ',rep21)\n",
    "    rep23=re.sub('[ጻ]','ፃ',rep22)\n",
    "    rep24=re.sub('[ጼ]','ፄ',rep23)\n",
    "    rep25=re.sub('[ጽ]','ፅ',rep24)\n",
    "    rep26=re.sub('[ጾ]','ፆ',rep25)\n",
    "    #Normalizing words with Labialized Amharic characters such as በልቱዋል or  በልቱአል to  በልቷል  \n",
    "    rep27=re.sub('(ሉ[ዋአ])','ሏ',rep26)\n",
    "    rep28=re.sub('(ሙ[ዋአ])','ሟ',rep27)\n",
    "    rep29=re.sub('(ቱ[ዋአ])','ቷ',rep28)\n",
    "    rep30=re.sub('(ሩ[ዋአ])','ሯ',rep29)\n",
    "    rep31=re.sub('(ሱ[ዋአ])','ሷ',rep30)\n",
    "    rep32=re.sub('(ሹ[ዋአ])','ሿ',rep31)\n",
    "    rep33=re.sub('(ቁ[ዋአ])','ቋ',rep32)\n",
    "    rep34=re.sub('(ቡ[ዋአ])','ቧ',rep33)\n",
    "    rep35=re.sub('(ቹ[ዋአ])','ቿ',rep34)\n",
    "    rep36=re.sub('(ሁ[ዋአ])','ኋ',rep35)\n",
    "    rep37=re.sub('(ኑ[ዋአ])','ኗ',rep36)\n",
    "    rep38=re.sub('(ኙ[ዋአ])','ኟ',rep37)\n",
    "    rep39=re.sub('(ኩ[ዋአ])','ኳ',rep38)\n",
    "    rep40=re.sub('(ዙ[ዋአ])','ዟ',rep39)\n",
    "    rep41=re.sub('(ጉ[ዋአ])','ጓ',rep40)\n",
    "    rep42=re.sub('(ደ[ዋአ])','ዷ',rep41)\n",
    "    rep43=re.sub('(ጡ[ዋአ])','ጧ',rep42)\n",
    "    rep44=re.sub('(ጩ[ዋአ])','ጯ',rep43)\n",
    "    rep45=re.sub('(ጹ[ዋአ])','ጿ',rep44)\n",
    "    rep46=re.sub('(ፉ[ዋአ])','ፏ',rep45)\n",
    "    rep47=re.sub('[ቊ]','ቁ',rep46) #ቁ can be written as ቊ\n",
    "    rep48=re.sub('[ኵ]','ኩ',rep47) #ኩ can be also written as ኵ  \n",
    "    return rep48\n"
   ]
  },
  {
   "cell_type": "code",
   "execution_count": 13,
   "metadata": {},
   "outputs": [
    {
     "name": "stderr",
     "output_type": "stream",
     "text": [
      "C:\\Users\\rafaa\\AppData\\Local\\Temp\\ipykernel_3628\\3727900363.py:1: FutureWarning: The default value of regex will change from True to False in a future version.\n",
      "  data['article'] = data['article'].str.replace('[^\\w\\s]','')\n"
     ]
    }
   ],
   "source": [
    "data['article'] = data['article'].str.replace('[^\\w\\s]','')"
   ]
  },
  {
   "cell_type": "code",
   "execution_count": 14,
   "metadata": {},
   "outputs": [],
   "source": [
    "data['article'] = data['article'].apply(lambda x: normalize_char_level_missmatch(x))"
   ]
  },
  {
   "cell_type": "code",
   "execution_count": 15,
   "metadata": {},
   "outputs": [],
   "source": [
    "n_data = data[['article','category']]\n",
    "n_data.head()\n",
    "\n",
    "text,label = data['article'].values,data['category'].values"
   ]
  },
  {
   "cell_type": "code",
   "execution_count": 16,
   "metadata": {},
   "outputs": [],
   "source": [
    "# n_data.head(5).to_csv('table.csv')"
   ]
  },
  {
   "cell_type": "markdown",
   "metadata": {},
   "source": [
    "# Naive Bays - CountVectorizer"
   ]
  },
  {
   "cell_type": "code",
   "execution_count": 17,
   "metadata": {},
   "outputs": [
    {
     "data": {
      "text/plain": [
       "array([[0, 0, 0, ..., 0, 0, 0],\n",
       "       [0, 0, 0, ..., 0, 0, 0],\n",
       "       [0, 0, 0, ..., 0, 0, 0],\n",
       "       ...,\n",
       "       [0, 0, 0, ..., 0, 0, 0],\n",
       "       [0, 0, 0, ..., 0, 0, 0],\n",
       "       [0, 0, 0, ..., 0, 0, 0]], dtype=int64)"
      ]
     },
     "execution_count": 17,
     "metadata": {},
     "output_type": "execute_result"
    }
   ],
   "source": [
    "from sklearn.feature_extraction.text import CountVectorizer\n",
    "matrix = CountVectorizer(analyzer='word',max_features=1000,ngram_range=(1, 3))\n",
    "X = matrix.fit_transform(text).toarray()\n",
    "X"
   ]
  },
  {
   "cell_type": "code",
   "execution_count": 18,
   "metadata": {},
   "outputs": [],
   "source": [
    "unique_label = list(set(label))\n",
    "Y= []\n",
    "for i in label:\n",
    "    Y.append(unique_label.index(i))"
   ]
  },
  {
   "cell_type": "code",
   "execution_count": 19,
   "metadata": {},
   "outputs": [],
   "source": [
    "from sklearn.model_selection import train_test_split\n",
    "X_train, X_test, y_train, y_test = train_test_split(X, Y,test_size=0.2)"
   ]
  },
  {
   "cell_type": "code",
   "execution_count": 20,
   "metadata": {},
   "outputs": [
    {
     "data": {
      "text/plain": [
       "0.6190152471593668"
      ]
     },
     "execution_count": 20,
     "metadata": {},
     "output_type": "execute_result"
    }
   ],
   "source": [
    "# Naive Bayes \n",
    "from sklearn.naive_bayes import GaussianNB\n",
    "classifier = GaussianNB()\n",
    "classifier.fit(X_train, y_train)\n",
    "\n",
    "# Predict Class\n",
    "y_pred = classifier.predict(X_test)\n",
    "\n",
    "# Accuracy \n",
    "from sklearn.metrics import accuracy_score\n",
    "accuracy = accuracy_score(y_test, y_pred)\n",
    "\n",
    "accuracy"
   ]
  },
  {
   "cell_type": "code",
   "execution_count": 21,
   "metadata": {},
   "outputs": [
    {
     "name": "stdout",
     "output_type": "stream",
     "text": [
      "              precision    recall  f1-score   support\n",
      "\n",
      "        ስፖርት       0.00      0.00      0.00         0\n",
      "        መዝናኛ       0.96      0.92      0.94      2089\n",
      "  ሀገር አቀፍ ዜና       0.39      0.72      0.51       805\n",
      "        ቢዝነስ       0.59      0.57      0.58      1852\n",
      "  ዓለም አቀፍ ዜና       0.43      0.89      0.58      1264\n",
      "        ፖለቲካ       0.27      0.82      0.41       115\n",
      "         nan       0.83      0.38      0.52      4172\n",
      "\n",
      "    accuracy                           0.62     10297\n",
      "   macro avg       0.49      0.61      0.50     10297\n",
      "weighted avg       0.72      0.62      0.62     10297\n",
      "\n"
     ]
    },
    {
     "name": "stderr",
     "output_type": "stream",
     "text": [
      "c:\\Users\\rafaa\\anaconda3\\envs\\my_venv\\lib\\site-packages\\sklearn\\metrics\\_classification.py:1248: UndefinedMetricWarning: Recall and F-score are ill-defined and being set to 0.0 in labels with no true samples. Use `zero_division` parameter to control this behavior.\n",
      "  _warn_prf(average, modifier, msg_start, len(result))\n",
      "c:\\Users\\rafaa\\anaconda3\\envs\\my_venv\\lib\\site-packages\\sklearn\\metrics\\_classification.py:1248: UndefinedMetricWarning: Recall and F-score are ill-defined and being set to 0.0 in labels with no true samples. Use `zero_division` parameter to control this behavior.\n",
      "  _warn_prf(average, modifier, msg_start, len(result))\n",
      "c:\\Users\\rafaa\\anaconda3\\envs\\my_venv\\lib\\site-packages\\sklearn\\metrics\\_classification.py:1248: UndefinedMetricWarning: Recall and F-score are ill-defined and being set to 0.0 in labels with no true samples. Use `zero_division` parameter to control this behavior.\n",
      "  _warn_prf(average, modifier, msg_start, len(result))\n"
     ]
    }
   ],
   "source": [
    "from sklearn.metrics import classification_report\n",
    "print(classification_report(y_test, y_pred, target_names=['ስፖርት', 'መዝናኛ', 'ሀገር አቀፍ ዜና', 'ቢዝነስ', 'ዓለም አቀፍ ዜና', 'ፖለቲካ', 'nan']))"
   ]
  },
  {
   "cell_type": "markdown",
   "metadata": {},
   "source": [
    "# Naive Bays - tf -df"
   ]
  },
  {
   "cell_type": "code",
   "execution_count": 22,
   "metadata": {},
   "outputs": [
    {
     "data": {
      "text/plain": [
       "array([[0., 0., 0., ..., 0., 0., 0.],\n",
       "       [0., 0., 0., ..., 0., 0., 0.],\n",
       "       [0., 0., 0., ..., 0., 0., 0.],\n",
       "       ...,\n",
       "       [0., 0., 0., ..., 0., 0., 0.],\n",
       "       [0., 0., 0., ..., 0., 0., 0.],\n",
       "       [0., 0., 0., ..., 0., 0., 0.]])"
      ]
     },
     "execution_count": 22,
     "metadata": {},
     "output_type": "execute_result"
    }
   ],
   "source": [
    "from sklearn.feature_extraction.text import TfidfVectorizer\n",
    "matrix = TfidfVectorizer(analyzer='word',max_features=1000,ngram_range=(1, 3))\n",
    "X = matrix.fit_transform(text).toarray()\n",
    "X"
   ]
  },
  {
   "cell_type": "code",
   "execution_count": 23,
   "metadata": {},
   "outputs": [],
   "source": [
    "from sklearn.model_selection import train_test_split\n",
    "X_train, X_test, y_train, y_test = train_test_split(X, Y,test_size=0.2)"
   ]
  },
  {
   "cell_type": "code",
   "execution_count": 24,
   "metadata": {},
   "outputs": [
    {
     "data": {
      "text/plain": [
       "0.6166844712052054"
      ]
     },
     "execution_count": 24,
     "metadata": {},
     "output_type": "execute_result"
    }
   ],
   "source": [
    "# Naive Bayes \n",
    "from sklearn.naive_bayes import GaussianNB\n",
    "classifier = GaussianNB()\n",
    "classifier.fit(X_train, y_train)\n",
    "\n",
    "# Predict Class\n",
    "y_pred = classifier.predict(X_test)\n",
    "\n",
    "# Accuracy \n",
    "from sklearn.metrics import accuracy_score\n",
    "accuracy = accuracy_score(y_test, y_pred)\n",
    "\n",
    "accuracy"
   ]
  },
  {
   "cell_type": "code",
   "execution_count": 25,
   "metadata": {},
   "outputs": [
    {
     "name": "stdout",
     "output_type": "stream",
     "text": [
      "              precision    recall  f1-score   support\n",
      "\n",
      "        ስፖርት       0.00      0.00      0.00         0\n",
      "        መዝናኛ       0.98      0.93      0.96      2074\n",
      "  ሀገር አቀፍ ዜና       0.32      0.83      0.46       813\n",
      "        ቢዝነስ       0.50      0.67      0.57      1847\n",
      "  ዓለም አቀፍ ዜና       0.60      0.75      0.67      1265\n",
      "        ፖለቲካ       0.25      0.75      0.37       144\n",
      "         nan       0.89      0.35      0.50      4154\n",
      "\n",
      "    accuracy                           0.62     10297\n",
      "   macro avg       0.50      0.61      0.50     10297\n",
      "weighted avg       0.75      0.62      0.62     10297\n",
      "\n"
     ]
    },
    {
     "name": "stderr",
     "output_type": "stream",
     "text": [
      "c:\\Users\\rafaa\\anaconda3\\envs\\my_venv\\lib\\site-packages\\sklearn\\metrics\\_classification.py:1248: UndefinedMetricWarning: Recall and F-score are ill-defined and being set to 0.0 in labels with no true samples. Use `zero_division` parameter to control this behavior.\n",
      "  _warn_prf(average, modifier, msg_start, len(result))\n",
      "c:\\Users\\rafaa\\anaconda3\\envs\\my_venv\\lib\\site-packages\\sklearn\\metrics\\_classification.py:1248: UndefinedMetricWarning: Recall and F-score are ill-defined and being set to 0.0 in labels with no true samples. Use `zero_division` parameter to control this behavior.\n",
      "  _warn_prf(average, modifier, msg_start, len(result))\n",
      "c:\\Users\\rafaa\\anaconda3\\envs\\my_venv\\lib\\site-packages\\sklearn\\metrics\\_classification.py:1248: UndefinedMetricWarning: Recall and F-score are ill-defined and being set to 0.0 in labels with no true samples. Use `zero_division` parameter to control this behavior.\n",
      "  _warn_prf(average, modifier, msg_start, len(result))\n"
     ]
    }
   ],
   "source": [
    "from sklearn.metrics import classification_report\n",
    "print(classification_report(y_test, y_pred, target_names=['ስፖርት', 'መዝናኛ', 'ሀገር አቀፍ ዜና', 'ቢዝነስ', 'ዓለም አቀፍ ዜና', 'ፖለቲካ', 'nan']))"
   ]
  }
 ],
 "metadata": {
  "kernelspec": {
   "display_name": "Python 3.8.13 ('my_venv')",
   "language": "python",
   "name": "python3"
  },
  "language_info": {
   "codemirror_mode": {
    "name": "ipython",
    "version": 3
   },
   "file_extension": ".py",
   "mimetype": "text/x-python",
   "name": "python",
   "nbconvert_exporter": "python",
   "pygments_lexer": "ipython3",
   "version": "3.8.13"
  },
  "vscode": {
   "interpreter": {
    "hash": "dc7fc716aa2e0d24213d56a0c38ef70edeca216a5a547fc559ceabba94adfad8"
   }
  }
 },
 "nbformat": 4,
 "nbformat_minor": 4
}
