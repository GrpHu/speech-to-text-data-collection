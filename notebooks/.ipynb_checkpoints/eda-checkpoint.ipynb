{
 "cells": [
  {
   "cell_type": "markdown",
   "metadata": {},
   "source": [
    "# Exploratory Data Analysis"
   ]
  },
  {
   "cell_type": "markdown",
   "metadata": {},
   "source": [
    "Import Libraries"
   ]
  },
  {
   "cell_type": "code",
   "execution_count": 1,
   "metadata": {},
   "outputs": [],
   "source": [
    "%matplotlib inline\n",
    "import matplotlib\n",
    "import pandas as pd\n",
    "import numpy as np\n",
    "from sklearn.utils import shuffle\n",
    "\n",
    "np.random.seed(45)"
   ]
  },
  {
   "cell_type": "code",
   "execution_count": 2,
   "metadata": {},
   "outputs": [
    {
     "data": {
      "text/html": [
       "<div>\n",
       "<style scoped>\n",
       "    .dataframe tbody tr th:only-of-type {\n",
       "        vertical-align: middle;\n",
       "    }\n",
       "\n",
       "    .dataframe tbody tr th {\n",
       "        vertical-align: top;\n",
       "    }\n",
       "\n",
       "    .dataframe thead th {\n",
       "        text-align: right;\n",
       "    }\n",
       "</style>\n",
       "<table border=\"1\" class=\"dataframe\">\n",
       "  <thead>\n",
       "    <tr style=\"text-align: right;\">\n",
       "      <th></th>\n",
       "      <th>headline</th>\n",
       "      <th>category</th>\n",
       "      <th>date</th>\n",
       "      <th>views</th>\n",
       "      <th>article</th>\n",
       "      <th>link</th>\n",
       "    </tr>\n",
       "  </thead>\n",
       "  <tbody>\n",
       "    <tr>\n",
       "      <th>24973</th>\n",
       "      <td>በአዲስ አበባ ዘመናዊ የቤቶች አስተዳደር ተግባራዊ እንደሚደረግ ተገለጸ</td>\n",
       "      <td>ሀገር አቀፍ ዜና</td>\n",
       "      <td>22 June 2016</td>\n",
       "      <td>Unknown</td>\n",
       "      <td>የአዲስ አበባ ከተማ አስተዳደር በከተማው የተንሰራፋውን የቤቶች አስተዳደር...</td>\n",
       "      <td>https://www.ethiopianreporter.com/article/13753</td>\n",
       "    </tr>\n",
       "    <tr>\n",
       "      <th>3022</th>\n",
       "      <td>ህዝበ ሙስሊሙ የሚገጥሙትን ችግሮች በትዕግስት በማለፍ የአገር ሰላምን እን...</td>\n",
       "      <td>ሀገር አቀፍ ዜና</td>\n",
       "      <td>January 26, 2020</td>\n",
       "      <td>33</td>\n",
       "      <td>-ጠቅላይ ምክርቤቱ ህጋዊ እውቅና በማግኘቱ መደሰቱንም ገልጿልአዲስ አበባ፡...</td>\n",
       "      <td>https://www.press.et/Ama/?p=26158</td>\n",
       "    </tr>\n",
       "    <tr>\n",
       "      <th>2672</th>\n",
       "      <td>ኮሮና ቫይረስን ለመከላከል የሚሰጠው መረጃ ለአካል ጉዳተኞች ትኩረት አልሰ...</td>\n",
       "      <td>ሀገር አቀፍ ዜና</td>\n",
       "      <td>March 25, 2020</td>\n",
       "      <td>71</td>\n",
       "      <td>አዲስ አበባ ፡- መንግስት ኮሮና ቫይረስን ለመከላከል እየሰጠ ያለው የግን...</td>\n",
       "      <td>https://www.press.et/Ama/?p=29059</td>\n",
       "    </tr>\n",
       "  </tbody>\n",
       "</table>\n",
       "</div>"
      ],
      "text/plain": [
       "                                                headline    category  \\\n",
       "24973       በአዲስ አበባ ዘመናዊ የቤቶች አስተዳደር ተግባራዊ እንደሚደረግ ተገለጸ  ሀገር አቀፍ ዜና   \n",
       "3022   ህዝበ ሙስሊሙ የሚገጥሙትን ችግሮች በትዕግስት በማለፍ የአገር ሰላምን እን...  ሀገር አቀፍ ዜና   \n",
       "2672   ኮሮና ቫይረስን ለመከላከል የሚሰጠው መረጃ ለአካል ጉዳተኞች ትኩረት አልሰ...  ሀገር አቀፍ ዜና   \n",
       "\n",
       "                   date    views  \\\n",
       "24973      22 June 2016  Unknown   \n",
       "3022   January 26, 2020       33   \n",
       "2672     March 25, 2020       71   \n",
       "\n",
       "                                                 article  \\\n",
       "24973  የአዲስ አበባ ከተማ አስተዳደር በከተማው የተንሰራፋውን የቤቶች አስተዳደር...   \n",
       "3022   -ጠቅላይ ምክርቤቱ ህጋዊ እውቅና በማግኘቱ መደሰቱንም ገልጿልአዲስ አበባ፡...   \n",
       "2672   አዲስ አበባ ፡- መንግስት ኮሮና ቫይረስን ለመከላከል እየሰጠ ያለው የግን...   \n",
       "\n",
       "                                                  link  \n",
       "24973  https://www.ethiopianreporter.com/article/13753  \n",
       "3022                 https://www.press.et/Ama/?p=26158  \n",
       "2672                 https://www.press.et/Ama/?p=29059  "
      ]
     },
     "execution_count": 2,
     "metadata": {},
     "output_type": "execute_result"
    }
   ],
   "source": [
    "data = pd.read_csv('../data/Amharic News Dataset.csv')\n",
    "\n",
    "data = shuffle(data)\n",
    "data.head(3)"
   ]
  },
  {
   "cell_type": "code",
   "execution_count": 3,
   "metadata": {},
   "outputs": [
    {
     "name": "stdout",
     "output_type": "stream",
     "text": [
      "<class 'pandas.core.frame.DataFrame'>\n",
      "Int64Index: 51483 entries, 24973 to 6558\n",
      "Data columns (total 6 columns):\n",
      " #   Column    Non-Null Count  Dtype \n",
      "---  ------    --------------  ----- \n",
      " 0   headline  51470 non-null  object\n",
      " 1   category  51482 non-null  object\n",
      " 2   date      51483 non-null  object\n",
      " 3   views     51483 non-null  object\n",
      " 4   article   51483 non-null  object\n",
      " 5   link      51483 non-null  object\n",
      "dtypes: object(6)\n",
      "memory usage: 2.7+ MB\n"
     ]
    }
   ],
   "source": [
    "data.info()"
   ]
  },
  {
   "cell_type": "code",
   "execution_count": 4,
   "metadata": {},
   "outputs": [
    {
     "data": {
      "text/plain": [
       "(51483, 6)"
      ]
     },
     "execution_count": 4,
     "metadata": {},
     "output_type": "execute_result"
    }
   ],
   "source": [
    "data.shape"
   ]
  },
  {
   "cell_type": "code",
   "execution_count": 5,
   "metadata": {},
   "outputs": [],
   "source": [
    "data = data.dropna(subset=['article'])"
   ]
  },
  {
   "cell_type": "code",
   "execution_count": 6,
   "metadata": {},
   "outputs": [
    {
     "data": {
      "text/plain": [
       "https://amharic.voanews.com//a/sudan-transition-leader-ethiopia-visit/5644196.html                                                                                                                                                                                                                                                                                                 3\n",
       "https://amharic.voanews.com//a/ethiopia-political-crisis-tplf-and-adp-voa-crossfire-alula-kebede-july-2019/4998828.html                                                                                                                                                                                                                                                            3\n",
       "https://amharic.voanews.com//a/crossfire-ethiopia-reform-conflict-and-a-way-forward-jawar-mohammed-and-alula-solomon-voa-with-alula-kebede-july-2018/4482117.html                                                                                                                                                                                                                  3\n",
       "https://amharic.voanews.com//a/somali-parliament-votes-out-the-pm/5517514.html                                                                                                                                                                                                                                                                                                     3\n",
       "https://amharic.voanews.com//a/sochi-russia-africa-ethiopia-10-24-19/5138261.html                                                                                                                                                                                                                                                                                                  3\n",
       "                                                                                                                                                                                                                                                                                                                                                                                  ..\n",
       "https://www.fanabc.com/%e1%8a%a0%e1%88%9c%e1%88%aa%e1%8a%ab-%e1%89%a0%e1%8b%a8%e1%88%98%e1%8a%95-%e1%8b%a8%e1%8a%a0%e1%88%8d%e1%89%83%e1%8b%ad%e1%8b%b3%e1%8a%95-%e1%88%98%e1%88%aa-%e1%88%98%e1%8c%8d%e1%8b%b0%e1%88%8f/                                                                                                                                                          1\n",
       "https://www.press.et/Ama/?p=1335                                                                                                                                                                                                                                                                                                                                                   1\n",
       "https://www.fanabc.com/%e1%8d%8a%e1%8a%95%e1%88%8b%e1%8a%95%e1%8b%b5-%e1%88%88%e1%8a%a2%e1%89%b5%e1%8b%ae%e1%8c%b5%e1%8b%ab-%e1%8b%a84-%e1%88%9a%e1%88%8a%e1%8b%a8%e1%8a%95-%e1%8b%a9%e1%88%ae-%e1%8b%b5%e1%8c%8b%e1%8d%8d/                                                                                                                                                        1\n",
       "https://waltainfo.com/am/28008/                                                                                                                                                                                                                                                                                                                                                    1\n",
       "https://www.addisadmassnews.com/index.php?option=com_k2&view=item&id=14678:%E1%8B%A8%E1%8A%A0%E1%8B%B3%E1%88%9B-%E1%8A%A8%E1%89%B0%E1%88%9B-%E1%8B%A8193-%E1%88%9A-%E1%89%A5%E1%88%AD-%E1%8B%A8%E1%8B%8D%E1%88%83-%E1%8A%A0%E1%89%85%E1%88%AD%E1%89%A6%E1%89%B5-%E1%8D%95%E1%88%AE%E1%8C%80%E1%8A%AD%E1%89%B5-%E1%8B%AD%E1%8D%88%E1%88%AB%E1%88%A8%E1%88%9B%E1%88%8D&Itemid=240    1\n",
       "Name: link, Length: 50778, dtype: int64"
      ]
     },
     "execution_count": 6,
     "metadata": {},
     "output_type": "execute_result"
    }
   ],
   "source": [
    "data['link'].value_counts()"
   ]
  },
  {
   "cell_type": "code",
   "execution_count": 7,
   "metadata": {},
   "outputs": [
    {
     "data": {
      "text/plain": [
       "array(['ሀገር አቀፍ ዜና', 'ስፖርት', 'ፖለቲካ', 'ዓለም አቀፍ ዜና', 'መዝናኛ', 'ቢዝነስ', nan],\n",
       "      dtype=object)"
      ]
     },
     "execution_count": 7,
     "metadata": {},
     "output_type": "execute_result"
    }
   ],
   "source": [
    "data.category.unique()"
   ]
  },
  {
   "cell_type": "code",
   "execution_count": 8,
   "metadata": {},
   "outputs": [
    {
     "data": {
      "text/html": [
       "<div>\n",
       "<style scoped>\n",
       "    .dataframe tbody tr th:only-of-type {\n",
       "        vertical-align: middle;\n",
       "    }\n",
       "\n",
       "    .dataframe tbody tr th {\n",
       "        vertical-align: top;\n",
       "    }\n",
       "\n",
       "    .dataframe thead th {\n",
       "        text-align: right;\n",
       "    }\n",
       "</style>\n",
       "<table border=\"1\" class=\"dataframe\">\n",
       "  <thead>\n",
       "    <tr style=\"text-align: right;\">\n",
       "      <th></th>\n",
       "      <th>headline</th>\n",
       "      <th>category</th>\n",
       "      <th>date</th>\n",
       "      <th>views</th>\n",
       "      <th>article</th>\n",
       "      <th>link</th>\n",
       "      <th>word_len</th>\n",
       "    </tr>\n",
       "  </thead>\n",
       "  <tbody>\n",
       "    <tr>\n",
       "      <th>24973</th>\n",
       "      <td>በአዲስ አበባ ዘመናዊ የቤቶች አስተዳደር ተግባራዊ እንደሚደረግ ተገለጸ</td>\n",
       "      <td>ሀገር አቀፍ ዜና</td>\n",
       "      <td>22 June 2016</td>\n",
       "      <td>Unknown</td>\n",
       "      <td>የአዲስ አበባ ከተማ አስተዳደር በከተማው የተንሰራፋውን የቤቶች አስተዳደር...</td>\n",
       "      <td>https://www.ethiopianreporter.com/article/13753</td>\n",
       "      <td>445</td>\n",
       "    </tr>\n",
       "    <tr>\n",
       "      <th>3022</th>\n",
       "      <td>ህዝበ ሙስሊሙ የሚገጥሙትን ችግሮች በትዕግስት በማለፍ የአገር ሰላምን እን...</td>\n",
       "      <td>ሀገር አቀፍ ዜና</td>\n",
       "      <td>January 26, 2020</td>\n",
       "      <td>33</td>\n",
       "      <td>-ጠቅላይ ምክርቤቱ ህጋዊ እውቅና በማግኘቱ መደሰቱንም ገልጿልአዲስ አበባ፡...</td>\n",
       "      <td>https://www.press.et/Ama/?p=26158</td>\n",
       "      <td>274</td>\n",
       "    </tr>\n",
       "    <tr>\n",
       "      <th>2672</th>\n",
       "      <td>ኮሮና ቫይረስን ለመከላከል የሚሰጠው መረጃ ለአካል ጉዳተኞች ትኩረት አልሰ...</td>\n",
       "      <td>ሀገር አቀፍ ዜና</td>\n",
       "      <td>March 25, 2020</td>\n",
       "      <td>71</td>\n",
       "      <td>አዲስ አበባ ፡- መንግስት ኮሮና ቫይረስን ለመከላከል እየሰጠ ያለው የግን...</td>\n",
       "      <td>https://www.press.et/Ama/?p=29059</td>\n",
       "      <td>293</td>\n",
       "    </tr>\n",
       "    <tr>\n",
       "      <th>44789</th>\n",
       "      <td>ጌንት ዩኒቨርስቲ ከአራት የአገር ውስጥ ዩኒቨርስቲዎች ጋር ለመሥራት መዘጋ...</td>\n",
       "      <td>ሀገር አቀፍ ዜና</td>\n",
       "      <td>September 19, 2017</td>\n",
       "      <td>Unknown</td>\n",
       "      <td>የቤልጂየሙ ጌንት ዩኒቨርሲቲ በኢትዮጵያ ከሚገኙ አራት ዩኒቨርሲቲዎች ጋር ...</td>\n",
       "      <td>https://waltainfo.com/am/31790/</td>\n",
       "      <td>276</td>\n",
       "    </tr>\n",
       "    <tr>\n",
       "      <th>5287</th>\n",
       "      <td>በእነ አቶ አብዲ መሀመድ ዑመር ላይ ክስ ሊመሰረት ነው</td>\n",
       "      <td>ሀገር አቀፍ ዜና</td>\n",
       "      <td>January 19, 2019</td>\n",
       "      <td>43</td>\n",
       "      <td>አዲስ አበባ፡- በሐምሌ ወር 2010 ዓ.ም በሶማሌ ክልል ጅግጅጋ ከተማና ...</td>\n",
       "      <td>https://www.press.et/Ama/?p=3270</td>\n",
       "      <td>338</td>\n",
       "    </tr>\n",
       "  </tbody>\n",
       "</table>\n",
       "</div>"
      ],
      "text/plain": [
       "                                                headline    category  \\\n",
       "24973       በአዲስ አበባ ዘመናዊ የቤቶች አስተዳደር ተግባራዊ እንደሚደረግ ተገለጸ  ሀገር አቀፍ ዜና   \n",
       "3022   ህዝበ ሙስሊሙ የሚገጥሙትን ችግሮች በትዕግስት በማለፍ የአገር ሰላምን እን...  ሀገር አቀፍ ዜና   \n",
       "2672   ኮሮና ቫይረስን ለመከላከል የሚሰጠው መረጃ ለአካል ጉዳተኞች ትኩረት አልሰ...  ሀገር አቀፍ ዜና   \n",
       "44789  ጌንት ዩኒቨርስቲ ከአራት የአገር ውስጥ ዩኒቨርስቲዎች ጋር ለመሥራት መዘጋ...  ሀገር አቀፍ ዜና   \n",
       "5287                  በእነ አቶ አብዲ መሀመድ ዑመር ላይ ክስ ሊመሰረት ነው  ሀገር አቀፍ ዜና   \n",
       "\n",
       "                     date    views  \\\n",
       "24973        22 June 2016  Unknown   \n",
       "3022     January 26, 2020       33   \n",
       "2672       March 25, 2020       71   \n",
       "44789  September 19, 2017  Unknown   \n",
       "5287     January 19, 2019       43   \n",
       "\n",
       "                                                 article  \\\n",
       "24973  የአዲስ አበባ ከተማ አስተዳደር በከተማው የተንሰራፋውን የቤቶች አስተዳደር...   \n",
       "3022   -ጠቅላይ ምክርቤቱ ህጋዊ እውቅና በማግኘቱ መደሰቱንም ገልጿልአዲስ አበባ፡...   \n",
       "2672   አዲስ አበባ ፡- መንግስት ኮሮና ቫይረስን ለመከላከል እየሰጠ ያለው የግን...   \n",
       "44789  የቤልጂየሙ ጌንት ዩኒቨርሲቲ በኢትዮጵያ ከሚገኙ አራት ዩኒቨርሲቲዎች ጋር ...   \n",
       "5287   አዲስ አበባ፡- በሐምሌ ወር 2010 ዓ.ም በሶማሌ ክልል ጅግጅጋ ከተማና ...   \n",
       "\n",
       "                                                  link  word_len  \n",
       "24973  https://www.ethiopianreporter.com/article/13753       445  \n",
       "3022                 https://www.press.et/Ama/?p=26158       274  \n",
       "2672                 https://www.press.et/Ama/?p=29059       293  \n",
       "44789                  https://waltainfo.com/am/31790/       276  \n",
       "5287                  https://www.press.et/Ama/?p=3270       338  "
      ]
     },
     "execution_count": 8,
     "metadata": {},
     "output_type": "execute_result"
    }
   ],
   "source": [
    "data['word_len'] = data['article'].str.split().str.len()\n",
    "data.head()"
   ]
  },
  {
   "cell_type": "code",
   "execution_count": 9,
   "metadata": {},
   "outputs": [
    {
     "name": "stdout",
     "output_type": "stream",
     "text": [
      "<class 'pandas.core.frame.DataFrame'>\n",
      "Int64Index: 51483 entries, 24973 to 6558\n",
      "Data columns (total 7 columns):\n",
      " #   Column    Non-Null Count  Dtype \n",
      "---  ------    --------------  ----- \n",
      " 0   headline  51470 non-null  object\n",
      " 1   category  51482 non-null  object\n",
      " 2   date      51483 non-null  object\n",
      " 3   views     51483 non-null  object\n",
      " 4   article   51483 non-null  object\n",
      " 5   link      51483 non-null  object\n",
      " 6   word_len  51483 non-null  int64 \n",
      "dtypes: int64(1), object(6)\n",
      "memory usage: 3.1+ MB\n"
     ]
    }
   ],
   "source": [
    "data.info()"
   ]
  },
  {
   "cell_type": "code",
   "execution_count": 10,
   "metadata": {},
   "outputs": [
    {
     "data": {
      "text/plain": [
       "248.9586853912942"
      ]
     },
     "execution_count": 10,
     "metadata": {},
     "output_type": "execute_result"
    }
   ],
   "source": [
    "data.word_len.mean()"
   ]
  },
  {
   "cell_type": "markdown",
   "metadata": {},
   "source": [
    "# character level normalization\n",
    "\n",
    "Amharic has characters wich have the same sound that can be interchangably used.\n",
    "\n",
    "for example letters 'ሃ','ኅ','ኃ','ሐ','ሓ','ኻ','ሀ' have the same sound so we change them to 'ሀ' "
   ]
  },
  {
   "cell_type": "code",
   "execution_count": 11,
   "metadata": {},
   "outputs": [],
   "source": [
    "import re\n",
    "#method to normalize character level missmatch such as ጸሀይ and ፀሐይ\n",
    "def normalize_char_level_missmatch(input_token):\n",
    "    rep1=re.sub('[ሃኅኃሐሓኻ]','ሀ',input_token)\n",
    "    rep2=re.sub('[ሑኁዅ]','ሁ',rep1)\n",
    "    rep3=re.sub('[ኂሒኺ]','ሂ',rep2)\n",
    "    rep4=re.sub('[ኌሔዄ]','ሄ',rep3)\n",
    "    rep5=re.sub('[ሕኅ]','ህ',rep4)\n",
    "    rep6=re.sub('[ኆሖኾ]','ሆ',rep5)\n",
    "    rep7=re.sub('[ሠ]','ሰ',rep6)\n",
    "    rep8=re.sub('[ሡ]','ሱ',rep7)\n",
    "    rep9=re.sub('[ሢ]','ሲ',rep8)\n",
    "    rep10=re.sub('[ሣ]','ሳ',rep9)\n",
    "    rep11=re.sub('[ሤ]','ሴ',rep10)\n",
    "    rep12=re.sub('[ሥ]','ስ',rep11)\n",
    "    rep13=re.sub('[ሦ]','ሶ',rep12)\n",
    "    rep14=re.sub('[ዓኣዐ]','አ',rep13)\n",
    "    rep15=re.sub('[ዑ]','ኡ',rep14)\n",
    "    rep16=re.sub('[ዒ]','ኢ',rep15)\n",
    "    rep17=re.sub('[ዔ]','ኤ',rep16)\n",
    "    rep18=re.sub('[ዕ]','እ',rep17)\n",
    "    rep19=re.sub('[ዖ]','ኦ',rep18)\n",
    "    rep20=re.sub('[ጸ]','ፀ',rep19)\n",
    "    rep21=re.sub('[ጹ]','ፁ',rep20)\n",
    "    rep22=re.sub('[ጺ]','ፂ',rep21)\n",
    "    rep23=re.sub('[ጻ]','ፃ',rep22)\n",
    "    rep24=re.sub('[ጼ]','ፄ',rep23)\n",
    "    rep25=re.sub('[ጽ]','ፅ',rep24)\n",
    "    rep26=re.sub('[ጾ]','ፆ',rep25)\n",
    "    #Normalizing words with Labialized Amharic characters such as በልቱዋል or  በልቱአል to  በልቷል  \n",
    "    rep27=re.sub('(ሉ[ዋአ])','ሏ',rep26)\n",
    "    rep28=re.sub('(ሙ[ዋአ])','ሟ',rep27)\n",
    "    rep29=re.sub('(ቱ[ዋአ])','ቷ',rep28)\n",
    "    rep30=re.sub('(ሩ[ዋአ])','ሯ',rep29)\n",
    "    rep31=re.sub('(ሱ[ዋአ])','ሷ',rep30)\n",
    "    rep32=re.sub('(ሹ[ዋአ])','ሿ',rep31)\n",
    "    rep33=re.sub('(ቁ[ዋአ])','ቋ',rep32)\n",
    "    rep34=re.sub('(ቡ[ዋአ])','ቧ',rep33)\n",
    "    rep35=re.sub('(ቹ[ዋአ])','ቿ',rep34)\n",
    "    rep36=re.sub('(ሁ[ዋአ])','ኋ',rep35)\n",
    "    rep37=re.sub('(ኑ[ዋአ])','ኗ',rep36)\n",
    "    rep38=re.sub('(ኙ[ዋአ])','ኟ',rep37)\n",
    "    rep39=re.sub('(ኩ[ዋአ])','ኳ',rep38)\n",
    "    rep40=re.sub('(ዙ[ዋአ])','ዟ',rep39)\n",
    "    rep41=re.sub('(ጉ[ዋአ])','ጓ',rep40)\n",
    "    rep42=re.sub('(ደ[ዋአ])','ዷ',rep41)\n",
    "    rep43=re.sub('(ጡ[ዋአ])','ጧ',rep42)\n",
    "    rep44=re.sub('(ጩ[ዋአ])','ጯ',rep43)\n",
    "    rep45=re.sub('(ጹ[ዋአ])','ጿ',rep44)\n",
    "    rep46=re.sub('(ፉ[ዋአ])','ፏ',rep45)\n",
    "    rep47=re.sub('[ቊ]','ቁ',rep46) #ቁ can be written as ቊ\n",
    "    rep48=re.sub('[ኵ]','ኩ',rep47) #ኩ can be also written as ኵ  \n",
    "    return rep48"
   ]
  },
  {
   "cell_type": "code",
   "execution_count": 12,
   "metadata": {},
   "outputs": [
    {
     "name": "stderr",
     "output_type": "stream",
     "text": [
      "C:\\Users\\rafaa\\AppData\\Local\\Temp\\ipykernel_9864\\3727900363.py:1: FutureWarning: The default value of regex will change from True to False in a future version.\n",
      "  data['article'] = data['article'].str.replace('[^\\w\\s]','')\n"
     ]
    }
   ],
   "source": [
    "data['article'] = data['article'].str.replace('[^\\w\\s]','')"
   ]
  },
  {
   "cell_type": "code",
   "execution_count": 13,
   "metadata": {},
   "outputs": [],
   "source": [
    "data['article'] = data['article'].apply(lambda x: normalize_char_level_missmatch(x))"
   ]
  },
  {
   "cell_type": "code",
   "execution_count": 14,
   "metadata": {},
   "outputs": [],
   "source": [
    "n_data = data[['article','category']]\n",
    "n_data.head()\n",
    "\n",
    "text,label = data['article'].values,data['category'].values"
   ]
  },
  {
   "cell_type": "code",
   "execution_count": 15,
   "metadata": {},
   "outputs": [],
   "source": [
    "# n_data.head(5).to_csv('table.csv')"
   ]
  },
  {
   "cell_type": "markdown",
   "metadata": {},
   "source": [
    "# Naive Bays - CountVectorizer"
   ]
  },
  {
   "cell_type": "code",
   "execution_count": null,
   "metadata": {},
   "outputs": [],
   "source": [
    "from sklearn.feature_extraction.text import CountVectorizer\n",
    "matrix = CountVectorizer(analyzer='word',max_features=1000,ngram_range=(1, 3))\n",
    "X = matrix.fit_transform(text).toarray()\n",
    "X"
   ]
  },
  {
   "cell_type": "code",
   "execution_count": null,
   "metadata": {},
   "outputs": [],
   "source": [
    "unique_label = list(set(label))\n",
    "Y= []\n",
    "for i in label:\n",
    "    Y.append(unique_label.index(i))"
   ]
  },
  {
   "cell_type": "code",
   "execution_count": null,
   "metadata": {},
   "outputs": [],
   "source": [
    "from sklearn.model_selection import train_test_split\n",
    "X_train, X_test, y_train, y_test = train_test_split(X, Y,test_size=0.2)"
   ]
  },
  {
   "cell_type": "code",
   "execution_count": null,
   "metadata": {},
   "outputs": [],
   "source": [
    "# Naive Bayes \n",
    "from sklearn.naive_bayes import GaussianNB\n",
    "classifier = GaussianNB()\n",
    "classifier.fit(X_train, y_train)\n",
    "\n",
    "# Predict Class\n",
    "y_pred = classifier.predict(X_test)\n",
    "\n",
    "# Accuracy \n",
    "from sklearn.metrics import accuracy_score\n",
    "accuracy = accuracy_score(y_test, y_pred)\n",
    "\n",
    "accuracy"
   ]
  },
  {
   "cell_type": "code",
   "execution_count": null,
   "metadata": {},
   "outputs": [],
   "source": [
    "from sklearn.metrics import classification_report\n",
    "print(classification_report(y_test, y_pred, target_names=['ስፖርት', 'መዝናኛ', 'ሀገር አቀፍ ዜና', 'ቢዝነስ', 'ዓለም አቀፍ ዜና', 'ፖለቲካ', 'nan']))"
   ]
  },
  {
   "cell_type": "markdown",
   "metadata": {},
   "source": [
    "# Naive Bays - tf -df"
   ]
  },
  {
   "cell_type": "code",
   "execution_count": null,
   "metadata": {},
   "outputs": [],
   "source": [
    "from sklearn.feature_extraction.text import TfidfVectorizer\n",
    "matrix = TfidfVectorizer(analyzer='word',max_features=1000,ngram_range=(1, 3))\n",
    "X = matrix.fit_transform(text).toarray()\n",
    "X"
   ]
  },
  {
   "cell_type": "code",
   "execution_count": null,
   "metadata": {},
   "outputs": [],
   "source": [
    "from sklearn.model_selection import train_test_split\n",
    "X_train, X_test, y_train, y_test = train_test_split(X, Y,test_size=0.2)"
   ]
  },
  {
   "cell_type": "code",
   "execution_count": null,
   "metadata": {},
   "outputs": [],
   "source": [
    "# Naive Bayes \n",
    "from sklearn.naive_bayes import GaussianNB\n",
    "classifier = GaussianNB()\n",
    "classifier.fit(X_train, y_train)\n",
    "\n",
    "# Predict Class\n",
    "y_pred = classifier.predict(X_test)\n",
    "\n",
    "# Accuracy \n",
    "from sklearn.metrics import accuracy_score\n",
    "accuracy = accuracy_score(y_test, y_pred)\n",
    "\n",
    "accuracy"
   ]
  },
  {
   "cell_type": "code",
   "execution_count": null,
   "metadata": {},
   "outputs": [],
   "source": [
    "from sklearn.metrics import classification_report\n",
    "print(classification_report(y_test, y_pred, target_names=['ስፖርት', 'መዝናኛ', 'ሀገር አቀፍ ዜና', 'ቢዝነስ', 'ዓለም አቀፍ ዜና', 'ፖለቲካ', 'nan']))"
   ]
  }
 ],
 "metadata": {
  "kernelspec": {
   "display_name": "Python 3 (ipykernel)",
   "language": "python",
   "name": "python3"
  },
  "language_info": {
   "codemirror_mode": {
    "name": "ipython",
    "version": 3
   },
   "file_extension": ".py",
   "mimetype": "text/x-python",
   "name": "python",
   "nbconvert_exporter": "python",
   "pygments_lexer": "ipython3",
   "version": "3.9.6"
  },
  "vscode": {
   "interpreter": {
    "hash": "dc7fc716aa2e0d24213d56a0c38ef70edeca216a5a547fc559ceabba94adfad8"
   }
  }
 },
 "nbformat": 4,
 "nbformat_minor": 4
}
